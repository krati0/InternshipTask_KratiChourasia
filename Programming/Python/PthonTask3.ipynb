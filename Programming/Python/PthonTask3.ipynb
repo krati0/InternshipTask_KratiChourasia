{
 "cells": [
  {
   "cell_type": "code",
   "execution_count": 1,
   "id": "3b6a8b05-279c-481f-87c7-aea943d9cbf7",
   "metadata": {},
   "outputs": [
    {
     "name": "stdout",
     "output_type": "stream",
     "text": [
      "Select your choice:\n",
      "1. Add Task\n",
      "2. Edit Task\n",
      "3. Remove Task\n",
      "4. List Tasks\n",
      "5. Exit App\n"
     ]
    },
    {
     "name": "stdin",
     "output_type": "stream",
     "text": [
      "Enter your choice:  5\n"
     ]
    },
    {
     "name": "stdout",
     "output_type": "stream",
     "text": [
      "Exiting application...Thank You!!\n"
     ]
    }
   ],
   "source": [
    "tasks = []\n",
    "\n",
    "def add_task():\n",
    "    title = input(\"Enter Task Title: \")\n",
    "    tasks.append({\"title\": title, \"status\": \"New\"})\n",
    "    print(\"Task added successfully!\\n\")\n",
    "\n",
    "def edit_task():\n",
    "    list_tasks()\n",
    "    try:\n",
    "        task_index = int(input(\"Enter task number to edit: \")) - 1\n",
    "        if 0 <= task_index < len(tasks):\n",
    "            new_title = input(\"Enter new task title: \")\n",
    "            new_status = input(\"Enter new task status (New, In Progress, Completed, Cancelled): \")\n",
    "            tasks[task_index][\"title\"] = new_title\n",
    "            tasks[task_index][\"status\"] = new_status\n",
    "            print(\"Task updated successfully!\\n\")\n",
    "        else:\n",
    "            print(\"Invalid task number.\\n\")\n",
    "    except ValueError:\n",
    "        print(\"Please enter a valid number.\\n\")\n",
    "\n",
    "def remove_task():\n",
    "    list_tasks()\n",
    "    try:\n",
    "        task_index = int(input(\"Enter task number to remove: \")) - 1\n",
    "        if 0 <= task_index < len(tasks):\n",
    "            del tasks[task_index]\n",
    "            print(\"Task removed successfully!\\n\")\n",
    "        else:\n",
    "            print(\"Invalid task number.\\n\")\n",
    "    except ValueError:\n",
    "        print(\"Please enter a valid number.\\n\")\n",
    "\n",
    "def list_tasks():\n",
    "    if not tasks:\n",
    "        print(\"No tasks available.\\n\")\n",
    "    else:\n",
    "        print(\"\\nTask List:\")\n",
    "        for idx, task in enumerate(tasks, 1):\n",
    "            print(f\"{idx}. Title: {task['title']} | Status: {task['status']}\")\n",
    "        print()\n",
    "\n",
    "def main():\n",
    "    while True:\n",
    "        print(\"Select your choice:\")\n",
    "        print(\"1. Add Task\")\n",
    "        print(\"2. Edit Task\")\n",
    "        print(\"3. Remove Task\")\n",
    "        print(\"4. List Tasks\")\n",
    "        print(\"5. Exit App\")\n",
    "        \n",
    "        choice = input(\"Enter your choice: \")\n",
    "        \n",
    "        if choice == \"1\":\n",
    "            add_task()\n",
    "        elif choice == \"2\":\n",
    "            edit_task()\n",
    "        elif choice == \"3\":\n",
    "            remove_task()\n",
    "        elif choice == \"4\":\n",
    "            list_tasks()\n",
    "        elif choice == \"5\":\n",
    "            print(\"Exiting application...Thank You!!\")\n",
    "            break\n",
    "        else:\n",
    "            print(\"Invalid choice, please try again.\\n\")\n",
    "\n",
    "if __name__ == \"__main__\":\n",
    "    main()\n"
   ]
  },
  {
   "cell_type": "code",
   "execution_count": null,
   "id": "a84747a5-e003-4b81-b9a8-ed93a87b7804",
   "metadata": {},
   "outputs": [],
   "source": []
  }
 ],
 "metadata": {
  "kernelspec": {
   "display_name": "Python 3 (ipykernel)",
   "language": "python",
   "name": "python3"
  },
  "language_info": {
   "codemirror_mode": {
    "name": "ipython",
    "version": 3
   },
   "file_extension": ".py",
   "mimetype": "text/x-python",
   "name": "python",
   "nbconvert_exporter": "python",
   "pygments_lexer": "ipython3",
   "version": "3.12.4"
  }
 },
 "nbformat": 4,
 "nbformat_minor": 5
}
