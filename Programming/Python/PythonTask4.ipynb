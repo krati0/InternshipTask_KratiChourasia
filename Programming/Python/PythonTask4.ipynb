{
 "cells": [
  {
   "cell_type": "code",
   "execution_count": 2,
   "id": "203e9f24-cbbe-464e-b8a7-3b1b7070ae7a",
   "metadata": {},
   "outputs": [
    {
     "name": "stdout",
     "output_type": "stream",
     "text": [
      "\n",
      "1. Search Recipes\n",
      "2. Filter by Type\n",
      "3. Exit\n"
     ]
    },
    {
     "name": "stdin",
     "output_type": "stream",
     "text": [
      "Enter choice:  \n"
     ]
    },
    {
     "name": "stdout",
     "output_type": "stream",
     "text": [
      "Invalid choice. Try again.\n",
      "\n",
      "1. Search Recipes\n",
      "2. Filter by Type\n",
      "3. Exit\n"
     ]
    },
    {
     "name": "stdin",
     "output_type": "stream",
     "text": [
      "Enter choice:  3\n"
     ]
    },
    {
     "name": "stdout",
     "output_type": "stream",
     "text": [
      "Exiting application...Thank You!!\n"
     ]
    }
   ],
   "source": [
    "recipes = [\n",
    "    {\"name\": \"Pancakes\", \"ingredients\": [\"flour\", \"milk\", \"egg\", \"sugar\"], \"type\": \"Breakfast\"},\n",
    "    {\"name\": \"rajma rice\", \"ingredients\": [\"rajma\", \"rice\",\"lemon\",\"onion\"], \"type\": \"Lunch\"},\n",
    "    {\"name\": \"Salad\", \"ingredients\": [\"lettuce\", \"tomato\", \"cucumber\", \"olive oil\"], \"type\": \"Lunch\"},\n",
    "    {\"name\": \"Omelette\", \"ingredients\": [\"egg\", \"cheese\", \"pepper\"], \"type\": \"Breakfast\"}\n",
    "]\n",
    "\n",
    "def search_recipes():\n",
    "    ingredients = input(\"Enter ingredients (comma-separated): \").lower().split(\",\")\n",
    "    ingredients = [i.strip() for i in ingredients]\n",
    "    \n",
    "    print(\"\\nMatching Recipes:\")\n",
    "    found = False\n",
    "    for recipe in recipes:\n",
    "        if all(i in recipe[\"ingredients\"] for i in ingredients):\n",
    "            print(f\"- {recipe['name']} ({recipe['type']})\")\n",
    "            found = True\n",
    "    \n",
    "    if not found:\n",
    "        print(\"No matching recipes found.\")\n",
    "\n",
    "def filter_recipes_by_type():\n",
    "    meal_type = input(\"Enter meal type (Breakfast/Lunch): \").capitalize()\n",
    "    \n",
    "    print(f\"\\n{meal_type} Recipes:\")\n",
    "    found = False\n",
    "    for recipe in recipes:\n",
    "        if recipe[\"type\"] == meal_type:\n",
    "            print(f\"- {recipe['name']}\")\n",
    "            found = True\n",
    "    \n",
    "    if not found:\n",
    "        print(f\"No {meal_type} recipes found.\")\n",
    "\n",
    "def main():\n",
    "    while True:\n",
    "        print(\"\\n1. Search Recipes\")\n",
    "        print(\"2. Filter by Type\")\n",
    "        print(\"3. Exit\")\n",
    "        choice = input(\"Enter choice: \")\n",
    "        \n",
    "        if choice == \"1\":\n",
    "            search_recipes()\n",
    "        elif choice == \"2\":\n",
    "            filter_recipes_by_type()\n",
    "        elif choice == \"3\":\n",
    "            print(\"Exiting application...Thank You!!\")\n",
    "            break\n",
    "        else:\n",
    "            print(\"Invalid choice. Try again.\")\n",
    "\n",
    "if __name__ == \"__main__\":\n",
    "    main()\n"
   ]
  },
  {
   "cell_type": "code",
   "execution_count": null,
   "id": "360d9c15-6fc3-4c15-9112-854b38a3d261",
   "metadata": {},
   "outputs": [],
   "source": []
  }
 ],
 "metadata": {
  "kernelspec": {
   "display_name": "Python 3 (ipykernel)",
   "language": "python",
   "name": "python3"
  },
  "language_info": {
   "codemirror_mode": {
    "name": "ipython",
    "version": 3
   },
   "file_extension": ".py",
   "mimetype": "text/x-python",
   "name": "python",
   "nbconvert_exporter": "python",
   "pygments_lexer": "ipython3",
   "version": "3.12.4"
  }
 },
 "nbformat": 4,
 "nbformat_minor": 5
}
