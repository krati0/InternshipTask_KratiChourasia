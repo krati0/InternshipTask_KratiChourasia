{
 "cells": [
  {
   "cell_type": "code",
   "execution_count": 7,
   "id": "5208df46-700d-44e2-9d81-3993a7c3467b",
   "metadata": {},
   "outputs": [
    {
     "name": "stdout",
     "output_type": "stream",
     "text": [
      "Select your choice:\n",
      "1. Add news details\n",
      "2. List news\n",
      "3. Exit app\n"
     ]
    },
    {
     "name": "stdin",
     "output_type": "stream",
     "text": [
      "Enter your choice:  1\n",
      "Enter News Title:  hjkk\n",
      "Enter News details:  hdjn hbckj bckjn\n",
      "Enter Photo path or URL:  ncc\n"
     ]
    },
    {
     "name": "stdout",
     "output_type": "stream",
     "text": [
      "News added successfully!\n",
      "\n",
      "Select your choice:\n",
      "1. Add news details\n",
      "2. List news\n",
      "3. Exit app\n"
     ]
    },
    {
     "name": "stdin",
     "output_type": "stream",
     "text": [
      "Enter your choice:  2\n"
     ]
    },
    {
     "name": "stdout",
     "output_type": "stream",
     "text": [
      "\n",
      "News Feed:\n",
      "1. Title: hjkk\n",
      "   Details: hdjn hbckj bckjn\n",
      "   Photo: ncc\n",
      "\n",
      "Select your choice:\n",
      "1. Add news details\n",
      "2. List news\n",
      "3. Exit app\n"
     ]
    },
    {
     "name": "stdin",
     "output_type": "stream",
     "text": [
      "Enter your choice:  3\n"
     ]
    },
    {
     "name": "stdout",
     "output_type": "stream",
     "text": [
      "Exiting application... Goodbye!!\n"
     ]
    }
   ],
   "source": [
    "news_feed = []\n",
    "\n",
    "def add_news():\n",
    "    title = input(\"Enter News Title: \")\n",
    "    details = input(\"Enter News details: \")\n",
    "    photo_path = input(\"Enter Photo path or URL: \")\n",
    "    \n",
    "    news_feed.append({\n",
    "        \"title\": title,\n",
    "        \"details\": details,\n",
    "        \"photo\": photo_path\n",
    "    })\n",
    "    print(\"News added successfully!\\n\")\n",
    "\n",
    "def list_news():\n",
    "    if not news_feed:\n",
    "        print(\"No news available.\\n\")\n",
    "    else:\n",
    "        print(\"\\nNews Feed:\")\n",
    "        for idx, news in enumerate(news_feed, 1):\n",
    "            print(f\"{idx}. Title: {news['title']}\")\n",
    "            print(f\"   Details: {news['details']}\")\n",
    "            print(f\"   Photo: {news['photo']}\\n\")\n",
    "\n",
    "def main():\n",
    "    while True:\n",
    "        print(\"Select your choice:\")\n",
    "        print(\"1. Add news details\")\n",
    "        print(\"2. List news\")\n",
    "        print(\"3. Exit app\")\n",
    "        \n",
    "        choice = input(\"Enter your choice: \")\n",
    "        \n",
    "        if choice == \"1\":\n",
    "            add_news()\n",
    "        elif choice == \"2\":\n",
    "            list_news()\n",
    "        elif choice == \"3\":\n",
    "            print(\"Exiting application... Goodbye!!\")\n",
    "            break\n",
    "        else:\n",
    "            print(\"Invalid choice, please try again.\\n\")\n",
    "\n",
    "if __name__ == \"__main__\":\n",
    "    main()\n"
   ]
  },
  {
   "cell_type": "code",
   "execution_count": null,
   "id": "5af39a9e-a5ef-4c31-a777-dcb347f3209b",
   "metadata": {},
   "outputs": [],
   "source": []
  }
 ],
 "metadata": {
  "kernelspec": {
   "display_name": "Python 3 (ipykernel)",
   "language": "python",
   "name": "python3"
  },
  "language_info": {
   "codemirror_mode": {
    "name": "ipython",
    "version": 3
   },
   "file_extension": ".py",
   "mimetype": "text/x-python",
   "name": "python",
   "nbconvert_exporter": "python",
   "pygments_lexer": "ipython3",
   "version": "3.12.4"
  }
 },
 "nbformat": 4,
 "nbformat_minor": 5
}
